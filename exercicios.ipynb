{
 "cells": [
  {
   "cell_type": "code",
   "execution_count": null,
   "metadata": {},
   "outputs": [
    {
     "name": "stdout",
     "output_type": "stream",
     "text": [
      "Seu numero é positivo:  -3.0\n"
     ]
    }
   ],
   "source": [
    "numero = float(input('Digite um numero: '))\n",
    "if numero > 0:\n",
    "    print('Seu numero é positivo: ', numero)\n",
    "else:\n",
    "    print('Seu numero é negativo: ', numero)    "
   ]
  },
  {
   "cell_type": "code",
   "execution_count": 5,
   "metadata": {},
   "outputs": [
    {
     "name": "stdout",
     "output_type": "stream",
     "text": [
      "Jonas é o irmão mais velho\n"
     ]
    }
   ],
   "source": [
    "irmao1 = int(input('Digite a idade do Jonas'))\n",
    "irmao2 = int(input('Digite a idade do Matheus'))\n",
    "\n",
    "if irmao1 > irmao2:\n",
    "    print('Jonas é o irmão mais velho')\n",
    "else:\n",
    "    print('Matheus é o irmão mais velho')    "
   ]
  },
  {
   "cell_type": "code",
   "execution_count": 2,
   "metadata": {},
   "outputs": [
    {
     "name": "stdout",
     "output_type": "stream",
     "text": [
      "{'Tadeu': 10, 'Matheus': 5, 'Igor': 7}\n",
      "Alunos Aprovados:\n",
      "Tadeu\n",
      "Igor\n"
     ]
    }
   ],
   "source": [
    "alunos = ['Tadeu', 'Matheus', 'Igor']\n",
    "notas = [10, 5, 7]\n",
    "\n",
    "notasAlunos = dict(zip(alunos, notas))\n",
    "\n",
    "print(notasAlunos)\n",
    "\n",
    "print('Alunos Aprovados:')\n",
    "for alunos, notas in notasAlunos.items():\n",
    "    if notas >= 7:\n",
    "        print(alunos) "
   ]
  },
  {
   "cell_type": "code",
   "execution_count": 10,
   "metadata": {},
   "outputs": [
    {
     "name": "stdout",
     "output_type": "stream",
     "text": [
      "3\n",
      "O numero é impar\n"
     ]
    }
   ],
   "source": [
    "numero = int(input('Digite um numero'))\n",
    "print(numero)\n",
    "if numero %2 == 0:\n",
    "    print('O numero é par')\n",
    "else:\n",
    "    print('O numero é impar')\n"
   ]
  },
  {
   "cell_type": "code",
   "execution_count": 8,
   "metadata": {},
   "outputs": [
    {
     "name": "stdout",
     "output_type": "stream",
     "text": [
      "O aluno já possui a nota máxima\n"
     ]
    }
   ],
   "source": [
    "faltas = int(input('Digite o numero de faltas'))\n",
    "notas = float(input('Digite a nota do aluno'))\n",
    "if notas == 10 and faltas == 0:\n",
    "    print('O aluno já possui a nota máxima')\n",
    "elif faltas == 0:\n",
    "    notaFinal = notas + 0.5\n",
    "    print('Como o aluno não faltou, ele recebeu meio ponto: ', notaFinal)\n",
    "else:\n",
    "    print('O aluno faltou, então não recebeu meio ponto extra: ', notas)"
   ]
  },
  {
   "cell_type": "code",
   "execution_count": 3,
   "metadata": {},
   "outputs": [
    {
     "name": "stdout",
     "output_type": "stream",
     "text": [
      "{'Uno com escada': 1, 'Fuscão Preto': 2, 'Gol Bolinha': 3}\n",
      "Carro vencedor:\n",
      "Uno com escada\n"
     ]
    }
   ],
   "source": [
    "carros = ['Uno com escada', 'Fuscão Preto', 'Gol Bolinha']\n",
    "lugar = [1, 2, 3]\n",
    "\n",
    "carrosColocacao = dict(zip(carros, lugar))\n",
    "\n",
    "print(carrosColocacao)\n",
    "\n",
    "print('Carro vencedor:')\n",
    "for carros, lugar in carrosColocacao.items():\n",
    "    if lugar == 1:\n",
    "        print(carros)"
   ]
  },
  {
   "cell_type": "code",
   "execution_count": 20,
   "metadata": {},
   "outputs": [
    {
     "name": "stdout",
     "output_type": "stream",
     "text": [
      "1\n",
      "2\n",
      "3\n",
      "4\n",
      "5\n",
      "6\n",
      "7\n",
      "8\n",
      "9\n"
     ]
    }
   ],
   "source": [
    "for i in range(1,10):\n",
    "    print(i)"
   ]
  },
  {
   "cell_type": "code",
   "execution_count": null,
   "metadata": {},
   "outputs": [
    {
     "name": "stdout",
     "output_type": "stream",
     "text": [
      "1505\n",
      "1540\n",
      "1575\n",
      "1610\n",
      "1645\n",
      "1680\n",
      "1715\n",
      "1750\n",
      "1785\n",
      "1820\n",
      "1855\n",
      "1890\n",
      "1925\n",
      "1960\n",
      "1995\n",
      "2030\n",
      "2065\n",
      "2100\n",
      "2135\n",
      "2170\n",
      "2205\n",
      "2240\n",
      "2275\n",
      "2310\n",
      "2345\n",
      "2380\n",
      "2415\n",
      "2450\n",
      "2485\n",
      "2520\n",
      "2555\n",
      "2590\n",
      "2625\n",
      "2660\n",
      "2695\n"
     ]
    }
   ],
   "source": [
    "for num in range(1500, 2700):\n",
    "    if(num%7==0 and num%5==0):\n",
    "        print(num)"
   ]
  },
  {
   "cell_type": "code",
   "execution_count": null,
   "metadata": {},
   "outputs": [
    {
     "name": "stdout",
     "output_type": "stream",
     "text": [
      "Aluno e suas notas {'Rener': (10.0, 10.0), 'Olavo': (9.0, 9.0)}\n",
      "\n",
      " Media:  {'Rener': 10.0, 'Olavo': 9.0}\n"
     ]
    }
   ],
   "source": [
    "alunos = []\n",
    "notas1 = []\n",
    "notas2 = []\n",
    "i = 0\n",
    "while i < 10:\n",
    "    aluno = input('Nome do aluno: ')\n",
    "    alunos.append(aluno)\n",
    "    nota1 = float(input('Digite a primeira nota: '))\n",
    "    notas1.append(nota1)\n",
    "    nota2 = float(input('Digite a segunda nota'))\n",
    "    notas2.append(nota2)\n",
    "    i += 1\n",
    "\n",
    "alunosNotas = {alunos[i]: (notas1[i], notas2[i]) \n",
    "            for i in range(len(alunos))}\n",
    "\n",
    "alunosMedia = {}\n",
    "for i in range(len(alunos)):\n",
    "    media = (notas1[i] + notas2[i]) / 2  \n",
    "    alunosMedia[alunos[i]] = media \n",
    "\n",
    "print(\"Aluno e suas notas\", alunosNotas)\n",
    "print(\"\\n Media: \", alunosMedia)"
   ]
  },
  {
   "cell_type": "code",
   "execution_count": 14,
   "metadata": {},
   "outputs": [
    {
     "name": "stdout",
     "output_type": "stream",
     "text": [
      "Carlos tem a nota:  7\n"
     ]
    }
   ],
   "source": [
    "nome = 'Carlos'\n",
    "notas = {'Ana': 9, 'Bruno': 6, 'Carlos': 7, 'Daniele':8}\n",
    "for aluno in notas:\n",
    "    if aluno == nome:\n",
    "        print(aluno, \"tem a nota: \", notas[aluno])\n",
    "        break\n",
    "else:\n",
    "    print('Nome não encontrado.')"
   ]
  },
  {
   "cell_type": "code",
   "execution_count": 20,
   "metadata": {},
   "outputs": [
    {
     "name": "stdout",
     "output_type": "stream",
     "text": [
      "1\n",
      "2\n",
      "3\n",
      "4\n",
      "5\n"
     ]
    }
   ],
   "source": [
    "i = 1\n",
    "while i < 6:\n",
    "    print(i)\n",
    "    i += 1"
   ]
  },
  {
   "cell_type": "code",
   "execution_count": null,
   "metadata": {},
   "outputs": [
    {
     "name": "stdout",
     "output_type": "stream",
     "text": [
      "[1, 2, 3, 4, 5]\n"
     ]
    }
   ],
   "source": [
    "i = 1\n",
    "num = []\n",
    "while i < 6:\n",
    "    num.append(i)\n",
    "    i += 1\n",
    "    print(num)\n",
    "else:\n",
    "    print('Numero não está no escopo da lista')    \n"
   ]
  },
  {
   "cell_type": "code",
   "execution_count": 29,
   "metadata": {},
   "outputs": [
    {
     "name": "stdout",
     "output_type": "stream",
     "text": [
      "Sequência de números: [1, 2, 3, 4, 5]\n",
      "Soma: 15\n",
      "Média: 3.0\n"
     ]
    }
   ],
   "source": [
    "i = 1\n",
    "num = []\n",
    "while i < 6:\n",
    "    num.append(i)\n",
    "    i += 1\n",
    "print('Sequência de números:', num)    \n",
    "soma = sum(num)\n",
    "print('Soma:', soma)\n",
    "media = soma/len(num)\n",
    "print('Média:', media)"
   ]
  },
  {
   "cell_type": "code",
   "execution_count": null,
   "metadata": {},
   "outputs": [
    {
     "name": "stdout",
     "output_type": "stream",
     "text": [
      "Alunos com nota 10: ['Rafa']\n",
      "Alunos com nota abaixo de 10: ['Ota']\n",
      "A media dos alunos foi: 9.5\n"
     ]
    }
   ],
   "source": [
    "alunos = []\n",
    "notas1 = []\n",
    "i = 0\n",
    "while i < 10:\n",
    "    aluno = input('Nome do aluno: ')\n",
    "    alunos.append(aluno)\n",
    "    nota1 = float(input('Digite a primeira nota: '))\n",
    "    notas1.append(nota1)\n",
    "    i += 1\n",
    "\n",
    "alunosNotas = {alunos[i]: (notas1[i]) \n",
    "for i in range(len(alunos))}\n",
    "\n",
    "alunos_com_nota_10 = [aluno for aluno, nota in alunosNotas.items() if nota == 10]\n",
    "\n",
    "alunos_abaixo_10 = [aluno for aluno, nota in alunosNotas.items() if nota != 10]\n",
    "\n",
    "media = sum(notas1)/len(notas1)\n",
    "\n",
    "print(\"Alunos com nota 10:\", alunos_com_nota_10)\n",
    "print(\"Alunos com nota abaixo de 10:\", alunos_abaixo_10)\n",
    "print('A media dos alunos foi:', media)\n"
   ]
  },
  {
   "cell_type": "code",
   "execution_count": 38,
   "metadata": {},
   "outputs": [
    {
     "name": "stdout",
     "output_type": "stream",
     "text": [
      "[1]\n",
      "[1, 2]\n",
      "[1, 2, 3]\n",
      "[1, 2, 3, 4]\n",
      "[1, 2, 3, 4, 5]\n",
      "Há 2 pares\n",
      "Há 3 impares\n"
     ]
    }
   ],
   "source": [
    "i = 1\n",
    "num = []\n",
    "while i < 6:\n",
    "    num.append(i)\n",
    "    i += 1\n",
    "    print(num)\n",
    "\n",
    "pares = [par for par in num if par%2 == 0]\n",
    "print('Há', len(pares), 'pares')\n",
    "impares = [impar for impar in num if impar%2 != 0]\n",
    "print('Há', len(impares), 'impares')"
   ]
  },
  {
   "cell_type": "code",
   "execution_count": null,
   "metadata": {},
   "outputs": [
    {
     "name": "stdout",
     "output_type": "stream",
     "text": [
      "Alunos com nota 10: []\n",
      "Alunos com nota abaixo de 10: ['Rafa', 'Otavio']\n",
      "Aluno Rafa tem uma nova nota: 9.50\n",
      "Aluno Otavio tem uma nova nota: 9.50\n"
     ]
    }
   ],
   "source": [
    "alunos = []\n",
    "notas1 = []\n",
    "faltas1 = []\n",
    "i = 0\n",
    "while i < 20:\n",
    "    aluno = input('Nome do aluno: ')\n",
    "    alunos.append(aluno)\n",
    "    nota1 = float(input('Digite a primeira nota: '))\n",
    "    notas1.append(nota1)\n",
    "    falta1 = float(input('Digite o numero de faltas'))\n",
    "    faltas1.append(falta1)\n",
    "    i += 1\n",
    "\n",
    "alunosNotas = {alunos[i]: (notas1[i], faltas1[i]) \n",
    "for i in range(len(alunos))}\n",
    "\n",
    "alunos_com_nota_10 = [aluno for aluno, (nota, falta) in alunosNotas.items() if nota == 10]\n",
    "print(\"Alunos com nota 10:\", alunos_com_nota_10)\n",
    "\n",
    "alunos_abaixo_10 = [aluno for aluno, (nota, falta) in alunosNotas.items() if nota != 10]\n",
    "print(\"Alunos com nota abaixo de 10:\", alunos_abaixo_10)\n",
    "\n",
    "alunos_sem_faltas = [aluno for aluno, (nota, falta) in alunosNotas.items() if falta == 0 and nota <= 9.5]\n",
    "\n",
    "for aluno in alunos_sem_faltas:\n",
    "    nota_atualizada = alunosNotas[aluno][0] + 0.5\n",
    "    print(f\"Aluno {aluno} tem uma nova nota: {nota_atualizada:.2f}\")\n",
    "\n"
   ]
  }
 ],
 "metadata": {
  "kernelspec": {
   "display_name": "Python 3",
   "language": "python",
   "name": "python3"
  },
  "language_info": {
   "codemirror_mode": {
    "name": "ipython",
    "version": 3
   },
   "file_extension": ".py",
   "mimetype": "text/x-python",
   "name": "python",
   "nbconvert_exporter": "python",
   "pygments_lexer": "ipython3",
   "version": "3.10.8"
  }
 },
 "nbformat": 4,
 "nbformat_minor": 2
}
